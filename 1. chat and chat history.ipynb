{
 "cells": [
  {
   "cell_type": "markdown",
   "metadata": {},
   "source": [
    "This whole file will be used as an example to showcase how `history` in the context of LLMs works."
   ]
  },
  {
   "cell_type": "markdown",
   "metadata": {},
   "source": [
    "---\n",
    "For this use case, we will need a smarter model. But will be nice if it still will be fast enough.\n",
    "\n",
    "So there not a bit list of small and fast models: \n",
    "- [qwen](https://ollama.com/library/qwen): `qwen:0.5b`, `qwen:1.5b`, `qwen:4b`. [qwen2](https://ollama.com/library/qwen2): `qwen2:0.5b`, `qwen2:1.5b`\n",
    "- [phi](https://ollama.com/library/phi): `phi:2.7b`.    [phi3](https://ollama.com/library/phi3): `phi3:3.8b`\n",
    "- [gemma](https://ollama.com/library/gemma): `gemma:2b`\n",
    "- [orca-mini](https://ollama.com/library/orca-mini): `orca-mini:3b`\n",
    "- [tinyllama](https://ollama.com/library/tinyllama): `tinyllama:1.1b`\n",
    "- [tinydolphin](https://ollama.com/library/tinydolphin): `tinydolphin:1.1b`"
   ]
  },
  {
   "cell_type": "code",
   "execution_count": null,
   "metadata": {},
   "outputs": [],
   "source": [
    "USE_MODEL = \"phi3:3.8b\""
   ]
  },
  {
   "cell_type": "code",
   "execution_count": null,
   "metadata": {},
   "outputs": [],
   "source": [
    "import ollama\n",
    "\n",
    "# If we don't have this specific model, let's pull it.\n",
    "ollama.pull(USE_MODEL)"
   ]
  },
  {
   "cell_type": "code",
   "execution_count": null,
   "metadata": {},
   "outputs": [],
   "source": [
    "client = ollama.Client(host='http://localhost:11434')\n",
    "\n",
    "stream = client.chat(\n",
    "    model=USE_MODEL,\n",
    "    messages=[{'role': 'user', 'content': 'Why is the sky blue?'}],\n",
    "    stream=True,\n",
    ")\n",
    "\n",
    "for chunk in stream:\n",
    "  print(chunk['message']['content'], end='', flush=True)\n"
   ]
  },
  {
   "cell_type": "markdown",
   "metadata": {},
   "source": [
    "---\n",
    "Now, we can try to ask LLM about our previous question, but the model can lie/hallucinate or say that there was no previous conversation.\n",
    "\n",
    "Because, as for the model, there was no previous conversation, this example lacks the history to do that."
   ]
  },
  {
   "cell_type": "code",
   "execution_count": null,
   "metadata": {},
   "outputs": [],
   "source": [
    "stream = client.chat(\n",
    "    model=USE_MODEL,\n",
    "    messages=[{'role': 'user', 'content': 'About what was the previosu question?'}],\n",
    "    stream=True,\n",
    ")\n",
    "\n",
    "for chunk in stream:\n",
    "  print(chunk['message']['content'], end='', flush=True)"
   ]
  },
  {
   "cell_type": "markdown",
   "metadata": {},
   "source": [
    "---\n",
    "Let's add supppot for history in chat with LLM"
   ]
  },
  {
   "cell_type": "code",
   "execution_count": null,
   "metadata": {},
   "outputs": [],
   "source": [
    "# History it's just an array of all messages which was sent to LLM\n",
    "history = [{'role': 'user', 'content': 'What is the difference between lemon and orange in a nutshell?'}]\n",
    "\n",
    "client = ollama.Client(host='http://localhost:11434')\n",
    "\n",
    "\n",
    "stream = client.chat(\n",
    "    model=USE_MODEL,\n",
    "    messages=history,\n",
    "    stream=True,\n",
    ")\n",
    "\n",
    "# we need to collect all chunks of output somewhere\n",
    "answer = \"\"\n",
    "\n",
    "for chunk in stream:\n",
    "  print(chunk['message']['content'], end='', flush=True)\n",
    "\n",
    "  # adding every chunk to the `answer` variable\n",
    "  answer += chunk['message']['content']\n",
    "\n",
    "# making a `assistant` message using the `answer` variable\n",
    "message = {'role': 'assistant', 'content': answer}\n",
    "\n",
    "# adding `message` to the end of history\n",
    "history.append(message)"
   ]
  },
  {
   "cell_type": "markdown",
   "metadata": {},
   "source": [
    "---\n",
    "Let's try to verify is history of messages works or not."
   ]
  },
  {
   "cell_type": "code",
   "execution_count": null,
   "metadata": {},
   "outputs": [],
   "source": [
    "history.append({'role': 'user', 'content': 'About what was the previosu question?'})\n",
    "\n",
    "stream = client.chat(\n",
    "    model=USE_MODEL,\n",
    "    messages=history,\n",
    "    stream=True,\n",
    ")\n",
    "\n",
    "# we need to collect all chunks of output somewhere\n",
    "answer = \"\"\n",
    "\n",
    "for chunk in stream:\n",
    "  print(chunk['message']['content'], end='', flush=True)\n",
    "\n",
    "  # adding every chunk to the `answer` variable\n",
    "  answer += chunk['message']['content']\n",
    "\n",
    "# making a `assistant` message using the `answer` variable\n",
    "message = {'role': 'assistant', 'content': answer}\n",
    "\n",
    "# adding `message` to the end of history\n",
    "history.append(message)"
   ]
  },
  {
   "cell_type": "code",
   "execution_count": null,
   "metadata": {},
   "outputs": [],
   "source": [
    "history.append({'role': 'user', 'content': 'Could you make a very short recap?'})\n",
    "\n",
    "stream = client.chat(\n",
    "    model=USE_MODEL,\n",
    "    messages=history,\n",
    "    stream=True,\n",
    ")\n",
    "\n",
    "# we need to collect all chunks of output somewhere\n",
    "answer = \"\"\n",
    "\n",
    "for chunk in stream:\n",
    "  print(chunk['message']['content'], end='', flush=True)\n",
    "\n",
    "  # adding every chunk to the `answer` variable\n",
    "  answer += chunk['message']['content']\n",
    "\n",
    "# making a `assistant` message using the `answer` variable\n",
    "message = {'role': 'assistant', 'content': answer}\n",
    "\n",
    "# adding `message` to the end of history\n",
    "history.append(message)"
   ]
  },
  {
   "cell_type": "code",
   "execution_count": null,
   "metadata": {},
   "outputs": [],
   "source": [
    "history.append({'role': 'user', 'content': 'Thank you for that!'})\n",
    "\n",
    "stream = client.chat(\n",
    "    model=USE_MODEL,\n",
    "    messages=history,\n",
    "    stream=True,\n",
    ")\n",
    "\n",
    "# we need to collect all chunks of output somewhere\n",
    "answer = \"\"\n",
    "\n",
    "for chunk in stream:\n",
    "  print(chunk['message']['content'], end='', flush=True)\n",
    "\n",
    "  # adding every chunk to the `answer` variable\n",
    "  answer += chunk['message']['content']\n",
    "\n",
    "# making a `assistant` message using the `answer` variable\n",
    "message = {'role': 'assistant', 'content': answer}\n",
    "\n",
    "# adding `message` to the end of history\n",
    "history.append(message)"
   ]
  },
  {
   "cell_type": "markdown",
   "metadata": {},
   "source": [
    "---\n",
    "After a long conversation, we can inspect history to see how the model perceives history."
   ]
  },
  {
   "cell_type": "code",
   "execution_count": null,
   "metadata": {},
   "outputs": [],
   "source": [
    "for message in history:\n",
    "    print(message)"
   ]
  },
  {
   "cell_type": "markdown",
   "metadata": {},
   "source": [
    "So, history for LLMs is just a list with all previous messages that can fit into it's context."
   ]
  }
 ],
 "metadata": {
  "kernelspec": {
   "display_name": "Python 3",
   "language": "python",
   "name": "python3"
  },
  "language_info": {
   "codemirror_mode": {
    "name": "ipython",
    "version": 3
   },
   "file_extension": ".py",
   "mimetype": "text/x-python",
   "name": "python",
   "nbconvert_exporter": "python",
   "pygments_lexer": "ipython3",
   "version": "3.11.9"
  }
 },
 "nbformat": 4,
 "nbformat_minor": 2
}
