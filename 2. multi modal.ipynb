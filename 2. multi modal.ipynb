{
 "cells": [
  {
   "cell_type": "markdown",
   "metadata": {},
   "source": [
    "Below, you can find examples of LLMs with multi-modal capabilities."
   ]
  },
  {
   "cell_type": "markdown",
   "metadata": {},
   "source": [
    "---\n",
    "For this use case, we will need bigger models that support the vision. You can find those models in [Ollama Library](https://ollama.com/library), marked with a `vision` label.\n",
    "\n",
    "So there is a tiny list of vision capable models: \n",
    "- [llava](https://ollama.com/library/llava)\n",
    "- [llava-phi3](https://ollama.com/library/llava-phi3)\n",
    "- [llava-llama3](https://ollama.com/library/llava-llama3)\n",
    "- [moondream](https://ollama.com/library/moondream)\n"
   ]
  },
  {
   "cell_type": "code",
   "execution_count": null,
   "metadata": {},
   "outputs": [],
   "source": [
    "USE_MODEL = \"llava-phi3:3.8b\""
   ]
  },
  {
   "cell_type": "code",
   "execution_count": null,
   "metadata": {},
   "outputs": [],
   "source": [
    "import ollama\n",
    "\n",
    "# If we don't have this specific model, let's pull it.\n",
    "ollama.pull(USE_MODEL)"
   ]
  },
  {
   "cell_type": "markdown",
   "metadata": {},
   "source": [
    "---\n",
    "To retrieve images from the internet, we need a way to download them. To do this, we could use [`requests`](https://docs.python-requests.org/en/latest/index.html) or [`httpx`](https://www.python-httpx.org/).\n",
    "\n",
    "So, let's grab random image from [`xkcd`](https://xkcd.com/)."
   ]
  },
  {
   "cell_type": "code",
   "execution_count": null,
   "metadata": {},
   "outputs": [],
   "source": [
    "import httpx\n",
    "import random\n",
    "import matplotlib.pyplot as plt\n",
    "from PIL import Image\n",
    "import numpy as np\n",
    "from io import BytesIO\n",
    "\n",
    "latest = httpx.get('https://xkcd.com/info.0.json')\n",
    "latest.raise_for_status()\n",
    "\n",
    "num = random.randint(1, latest.json().get('num'))\n",
    "comic = httpx.get(f'https://xkcd.com/{num}/info.0.json')\n",
    "comic.raise_for_status()\n",
    "\n",
    "print(f'xkcd #{comic.json().get(\"num\")}: {comic.json().get(\"alt\")}')\n",
    "print(f'link: https://xkcd.com/{num}')\n",
    "raw = httpx.get(comic.json().get('img'))\n",
    "raw.raise_for_status()\n",
    "pil_im = Image.open(BytesIO(raw.content))\n",
    "\n",
    "im_array = np.asarray(pil_im)\n",
    "plt.imshow(im_array)"
   ]
  },
  {
   "cell_type": "markdown",
   "metadata": {},
   "source": [
    "---\n",
    "And now we can try to ask model to explain this comic."
   ]
  },
  {
   "cell_type": "code",
   "execution_count": null,
   "metadata": {},
   "outputs": [],
   "source": [
    "for response in ollama.generate(USE_MODEL, 'explain this comic:', images=[raw.content], stream=True):\n",
    "  print(response['response'], end='', flush=True)"
   ]
  },
  {
   "cell_type": "markdown",
   "metadata": {},
   "source": [
    "---\n",
    "You can try other models and compare their performance on these images."
   ]
  }
 ],
 "metadata": {
  "kernelspec": {
   "display_name": "Python 3",
   "language": "python",
   "name": "python3"
  },
  "language_info": {
   "codemirror_mode": {
    "name": "ipython",
    "version": 3
   },
   "file_extension": ".py",
   "mimetype": "text/x-python",
   "name": "python",
   "nbconvert_exporter": "python",
   "pygments_lexer": "ipython3",
   "version": "3.11.9"
  }
 },
 "nbformat": 4,
 "nbformat_minor": 2
}
